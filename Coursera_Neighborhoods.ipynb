{
 "cells": [
  {
   "cell_type": "markdown",
   "metadata": {},
   "source": [
    "This notebook will be used to analyze clusters of neighborhoods in Canada."
   ]
  },
  {
   "cell_type": "markdown",
   "metadata": {},
   "source": [
    "First, we will grab the packages we need and open the url."
   ]
  },
  {
   "cell_type": "code",
   "execution_count": 74,
   "metadata": {},
   "outputs": [],
   "source": [
    "import pandas as pd\n",
    "import numpy as mp\n",
    "from urllib.request import urlopen\n",
    "from bs4 import BeautifulSoup\n",
    "\n",
    "url = \"https://en.wikipedia.org/wiki/List_of_postal_codes_of_Canada:_M\"\n",
    "\n",
    "html = urlopen(url)"
   ]
  },
  {
   "cell_type": "markdown",
   "metadata": {},
   "source": [
    "Next, we'll use the BeautifulSoup package to access the html code from the site."
   ]
  },
  {
   "cell_type": "code",
   "execution_count": 75,
   "metadata": {},
   "outputs": [],
   "source": [
    "soup = BeautifulSoup(html,'lxml')"
   ]
  },
  {
   "cell_type": "markdown",
   "metadata": {},
   "source": [
    "Now that we have the code, we'll need to grab the data that is in the table. Specifically, that means we need to find everything between the tr tags in the code."
   ]
  },
  {
   "cell_type": "code",
   "execution_count": 76,
   "metadata": {},
   "outputs": [
    {
     "name": "stdout",
     "output_type": "stream",
     "text": [
      "['[]', '[M1A, Not assigned, Not assigned\\n]', '[M2A, Not assigned, Not assigned\\n]', '[M3A, North York, Parkwoods\\n]', '[M4A, North York, Victoria Village\\n]', '[M5A, Downtown Toronto, Harbourfront\\n]', '[M5A, Downtown Toronto, Regent Park\\n]', '[M6A, North York, Lawrence Heights\\n]', '[M6A, North York, Lawrence Manor\\n]', \"[M7A, Queen's Park, Not assigned\\n]\"]\n"
     ]
    },
    {
     "data": {
      "text/html": [
       "<div>\n",
       "<style scoped>\n",
       "    .dataframe tbody tr th:only-of-type {\n",
       "        vertical-align: middle;\n",
       "    }\n",
       "\n",
       "    .dataframe tbody tr th {\n",
       "        vertical-align: top;\n",
       "    }\n",
       "\n",
       "    .dataframe thead th {\n",
       "        text-align: right;\n",
       "    }\n",
       "</style>\n",
       "<table border=\"1\" class=\"dataframe\">\n",
       "  <thead>\n",
       "    <tr style=\"text-align: right;\">\n",
       "      <th></th>\n",
       "      <th>0</th>\n",
       "    </tr>\n",
       "  </thead>\n",
       "  <tbody>\n",
       "    <tr>\n",
       "      <th>0</th>\n",
       "      <td>[]</td>\n",
       "    </tr>\n",
       "    <tr>\n",
       "      <th>1</th>\n",
       "      <td>[M1A, Not assigned, Not assigned\\n]</td>\n",
       "    </tr>\n",
       "    <tr>\n",
       "      <th>2</th>\n",
       "      <td>[M2A, Not assigned, Not assigned\\n]</td>\n",
       "    </tr>\n",
       "    <tr>\n",
       "      <th>3</th>\n",
       "      <td>[M3A, North York, Parkwoods\\n]</td>\n",
       "    </tr>\n",
       "    <tr>\n",
       "      <th>4</th>\n",
       "      <td>[M4A, North York, Victoria Village\\n]</td>\n",
       "    </tr>\n",
       "  </tbody>\n",
       "</table>\n",
       "</div>"
      ],
      "text/plain": [
       "                                       0\n",
       "0                                     []\n",
       "1    [M1A, Not assigned, Not assigned\\n]\n",
       "2    [M2A, Not assigned, Not assigned\\n]\n",
       "3         [M3A, North York, Parkwoods\\n]\n",
       "4  [M4A, North York, Victoria Village\\n]"
      ]
     },
     "execution_count": 76,
     "metadata": {},
     "output_type": "execute_result"
    }
   ],
   "source": [
    "#print the table rows in the html code\n",
    "rows = soup.find_all('tr')\n",
    "\n",
    "#make the rows into a list\n",
    "\n",
    "list_rows = []\n",
    "\n",
    "for row in rows:\n",
    "\n",
    "    row_td = row.find_all('td')\n",
    "\n",
    "    str_cells = str(row_td)\n",
    "\n",
    "    cleantext = BeautifulSoup(str_cells, \"lxml\").get_text()\n",
    "\n",
    "    list_rows.append(cleantext)\n",
    "\n",
    "print(list_rows[:10])\n",
    "\n",
    "#create dataframe from the list\n",
    "\n",
    "df = pd.DataFrame(list_rows)\n",
    "df.head()\n"
   ]
  },
  {
   "cell_type": "markdown",
   "metadata": {},
   "source": [
    "Now that we have the data in a dataframe, we need to format it according to the assignment specifications."
   ]
  },
  {
   "cell_type": "code",
   "execution_count": 77,
   "metadata": {},
   "outputs": [
    {
     "name": "stdout",
     "output_type": "stream",
     "text": [
      "    PostalCode            Borough  \\\n",
      "1          M1A       Not assigned   \n",
      "2          M2A       Not assigned   \n",
      "3          M3A         North York   \n",
      "4          M4A         North York   \n",
      "5          M5A   Downtown Toronto   \n",
      "6          M5A   Downtown Toronto   \n",
      "7          M6A         North York   \n",
      "8          M6A         North York   \n",
      "9          M7A       Queen's Park   \n",
      "10         M8A       Not assigned   \n",
      "11         M9A          Etobicoke   \n",
      "12         M1B        Scarborough   \n",
      "13         M1B        Scarborough   \n",
      "14         M2B       Not assigned   \n",
      "15         M3B         North York   \n",
      "16         M4B          East York   \n",
      "17         M4B          East York   \n",
      "18         M5B   Downtown Toronto   \n",
      "19         M5B   Downtown Toronto   \n",
      "20         M6B         North York   \n",
      "21         M7B       Not assigned   \n",
      "22         M8B       Not assigned   \n",
      "23         M9B          Etobicoke   \n",
      "24         M9B          Etobicoke   \n",
      "25         M9B          Etobicoke   \n",
      "26         M9B          Etobicoke   \n",
      "27         M9B          Etobicoke   \n",
      "28         M1C        Scarborough   \n",
      "29         M1C        Scarborough   \n",
      "30         M1C        Scarborough   \n",
      "..         ...                ...   \n",
      "260        M9X       Not assigned   \n",
      "261        M1Y       Not assigned   \n",
      "262        M2Y       Not assigned   \n",
      "263        M3Y       Not assigned   \n",
      "264        M4Y   Downtown Toronto   \n",
      "265        M5Y       Not assigned   \n",
      "266        M6Y       Not assigned   \n",
      "267        M7Y       East Toronto   \n",
      "268        M8Y          Etobicoke   \n",
      "269        M8Y          Etobicoke   \n",
      "270        M8Y          Etobicoke   \n",
      "271        M8Y          Etobicoke   \n",
      "272        M8Y          Etobicoke   \n",
      "273        M8Y          Etobicoke   \n",
      "274        M8Y          Etobicoke   \n",
      "275        M8Y          Etobicoke   \n",
      "276        M9Y       Not assigned   \n",
      "277        M1Z       Not assigned   \n",
      "278        M2Z       Not assigned   \n",
      "279        M3Z       Not assigned   \n",
      "280        M4Z       Not assigned   \n",
      "281        M5Z       Not assigned   \n",
      "282        M6Z       Not assigned   \n",
      "283        M7Z       Not assigned   \n",
      "284        M8Z          Etobicoke   \n",
      "285        M8Z          Etobicoke   \n",
      "286        M8Z          Etobicoke   \n",
      "287        M8Z          Etobicoke   \n",
      "288        M8Z          Etobicoke   \n",
      "289        M9Z       Not assigned   \n",
      "\n",
      "                                          Neighborhood  \n",
      "1                                         Not assigned  \n",
      "2                                         Not assigned  \n",
      "3                                            Parkwoods  \n",
      "4                                     Victoria Village  \n",
      "5                                         Harbourfront  \n",
      "6                                          Regent Park  \n",
      "7                                     Lawrence Heights  \n",
      "8                                       Lawrence Manor  \n",
      "9                                         Not assigned  \n",
      "10                                        Not assigned  \n",
      "11                                    Islington Avenue  \n",
      "12                                               Rouge  \n",
      "13                                             Malvern  \n",
      "14                                        Not assigned  \n",
      "15                                     Don Mills North  \n",
      "16                                    Woodbine Gardens  \n",
      "17                                       Parkview Hill  \n",
      "18                                             Ryerson  \n",
      "19                                     Garden District  \n",
      "20                                           Glencairn  \n",
      "21                                        Not assigned  \n",
      "22                                        Not assigned  \n",
      "23                                          Cloverdale  \n",
      "24                                           Islington  \n",
      "25                                        Martin Grove  \n",
      "26                                    Princess Gardens  \n",
      "27                                     West Deane Park  \n",
      "28                                      Highland Creek  \n",
      "29                                          Rouge Hill  \n",
      "30                                          Port Union  \n",
      "..                                                 ...  \n",
      "260                                       Not assigned  \n",
      "261                                       Not assigned  \n",
      "262                                       Not assigned  \n",
      "263                                       Not assigned  \n",
      "264                               Church and Wellesley  \n",
      "265                                       Not assigned  \n",
      "266                                       Not assigned  \n",
      "267   Business Reply Mail Processing Centre 969 Eas...  \n",
      "268                                         Humber Bay  \n",
      "269                                   King's Mill Park  \n",
      "270                           Kingsway Park South East  \n",
      "271                                          Mimico NE  \n",
      "272                                     Old Mill South  \n",
      "273                                 The Queensway East  \n",
      "274                              Royal York South East  \n",
      "275                                           Sunnylea  \n",
      "276                                       Not assigned  \n",
      "277                                       Not assigned  \n",
      "278                                       Not assigned  \n",
      "279                                       Not assigned  \n",
      "280                                       Not assigned  \n",
      "281                                       Not assigned  \n",
      "282                                       Not assigned  \n",
      "283                                       Not assigned  \n",
      "284                           Kingsway Park South West  \n",
      "285                                          Mimico NW  \n",
      "286                                 The Queensway West  \n",
      "287                              Royal York South West  \n",
      "288                                     South of Bloor  \n",
      "289                                       Not assigned  \n",
      "\n",
      "[289 rows x 3 columns]\n"
     ]
    }
   ],
   "source": [
    "# remove blank row, split on comma, and grab headers\n",
    "df1 = df.iloc[1:]\n",
    "\n",
    "df2=df1[0].str.split(',',expand=True)\n",
    "\n",
    "#strip the opening bracket and the new line text\n",
    "df2[0] = df2[0].str.strip('[')\n",
    "df2[2] = df2[2].str.strip('\\n]')\n",
    "\n",
    "#keep only the PostalCode, Borough, and Neighborhood columns\n",
    "df2 = df2.iloc[:,0:3]\n",
    "\n",
    "#create a list of header names and assign it to the dataframe\n",
    "headers = ['PostalCode','Borough','Neighborhood']\n",
    "\n",
    "df2.columns = headers\n",
    "\n",
    "#remove irrelevant rows\n",
    "\n",
    "df2=df2.iloc[0:289,:]\n",
    "\n",
    "print(df2)"
   ]
  },
  {
   "cell_type": "markdown",
   "metadata": {},
   "source": [
    "Now we need to remove unassigned boroughs and format the neighborhood names that are unassigned"
   ]
  },
  {
   "cell_type": "code",
   "execution_count": 83,
   "metadata": {},
   "outputs": [
    {
     "data": {
      "text/html": [
       "<div>\n",
       "<style scoped>\n",
       "    .dataframe tbody tr th:only-of-type {\n",
       "        vertical-align: middle;\n",
       "    }\n",
       "\n",
       "    .dataframe tbody tr th {\n",
       "        vertical-align: top;\n",
       "    }\n",
       "\n",
       "    .dataframe thead th {\n",
       "        text-align: right;\n",
       "    }\n",
       "</style>\n",
       "<table border=\"1\" class=\"dataframe\">\n",
       "  <thead>\n",
       "    <tr style=\"text-align: right;\">\n",
       "      <th></th>\n",
       "      <th>PostalCode</th>\n",
       "      <th>Borough</th>\n",
       "      <th>Neighborhood</th>\n",
       "    </tr>\n",
       "  </thead>\n",
       "  <tbody>\n",
       "    <tr>\n",
       "      <th>0</th>\n",
       "      <td>M1B</td>\n",
       "      <td>Scarborough</td>\n",
       "      <td>Rouge,Malvern</td>\n",
       "    </tr>\n",
       "    <tr>\n",
       "      <th>1</th>\n",
       "      <td>M1C</td>\n",
       "      <td>Scarborough</td>\n",
       "      <td>Highland Creek,Rouge Hill,Port Union</td>\n",
       "    </tr>\n",
       "    <tr>\n",
       "      <th>2</th>\n",
       "      <td>M1E</td>\n",
       "      <td>Scarborough</td>\n",
       "      <td>Guildwood,Morningside,West Hill</td>\n",
       "    </tr>\n",
       "    <tr>\n",
       "      <th>3</th>\n",
       "      <td>M1G</td>\n",
       "      <td>Scarborough</td>\n",
       "      <td>Woburn</td>\n",
       "    </tr>\n",
       "    <tr>\n",
       "      <th>4</th>\n",
       "      <td>M1H</td>\n",
       "      <td>Scarborough</td>\n",
       "      <td>Cedarbrae</td>\n",
       "    </tr>\n",
       "  </tbody>\n",
       "</table>\n",
       "</div>"
      ],
      "text/plain": [
       "  PostalCode      Borough                          Neighborhood\n",
       "0        M1B  Scarborough                         Rouge,Malvern\n",
       "1        M1C  Scarborough  Highland Creek,Rouge Hill,Port Union\n",
       "2        M1E  Scarborough       Guildwood,Morningside,West Hill\n",
       "3        M1G  Scarborough                                Woburn\n",
       "4        M1H  Scarborough                             Cedarbrae"
      ]
     },
     "execution_count": 83,
     "metadata": {},
     "output_type": "execute_result"
    }
   ],
   "source": [
    "#remove the leading space in the Borough cell\n",
    "df2.Borough = df2.Borough.str.strip()\n",
    "\n",
    "#remove boroughs that are not assigned\n",
    "df3 = df2[df2.Borough != 'Not assigned']\n",
    "\n",
    "df3.head()\n",
    "\n",
    "# replace missing neighborhood with borough\n",
    "\n",
    "# remove leading space in neighborhood and replace \"Not assigned\" neighborhood names with borough names\n",
    "df3.Neighborhood = df3.Neighborhood.str.strip()\n",
    "\n",
    "df3.Neighborhood.replace('Not assigned', df3.Borough, inplace = True)\n",
    "\n",
    "df3.reset_index(inplace = True, drop = True)\n",
    "\n",
    "df4 = df3.groupby(['PostalCode','Borough'])['Neighborhood'].agg(lambda x: \",\".join(x)).reset_index()\n",
    "\n",
    "df4.head()\n"
   ]
  },
  {
   "cell_type": "code",
   "execution_count": 84,
   "metadata": {},
   "outputs": [
    {
     "data": {
      "text/plain": [
       "(103, 3)"
      ]
     },
     "execution_count": 84,
     "metadata": {},
     "output_type": "execute_result"
    }
   ],
   "source": [
    "df4.shape"
   ]
  },
  {
   "cell_type": "code",
   "execution_count": null,
   "metadata": {},
   "outputs": [],
   "source": []
  }
 ],
 "metadata": {
  "kernelspec": {
   "display_name": "Python 3",
   "language": "python",
   "name": "python3"
  },
  "language_info": {
   "codemirror_mode": {
    "name": "ipython",
    "version": 3
   },
   "file_extension": ".py",
   "mimetype": "text/x-python",
   "name": "python",
   "nbconvert_exporter": "python",
   "pygments_lexer": "ipython3",
   "version": "3.7.1"
  }
 },
 "nbformat": 4,
 "nbformat_minor": 2
}
